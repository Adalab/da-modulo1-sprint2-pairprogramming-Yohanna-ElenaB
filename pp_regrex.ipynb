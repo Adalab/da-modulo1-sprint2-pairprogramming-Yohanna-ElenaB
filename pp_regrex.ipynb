{
 "cells": [
  {
   "cell_type": "code",
   "execution_count": 2,
   "metadata": {},
   "outputs": [
    {
     "name": "stdout",
     "output_type": "stream",
     "text": [
      "(123) 456-7890 , 178 1890-733 , (555) 238-1987 , (123) 4560-7890 , (ABC) 098-1111\n",
      "['(123) 456-7890', '(555) 238-1987']\n"
     ]
    }
   ],
   "source": [
    "import re\n",
    "#1.Validar un número de teléfono.\n",
    "#Descripción: Verificar si una cadena representa un número de teléfono válido en el formato (XXX) XXX-XXXX.\n",
    "#Probad para cada uno de los teléfonos que tenemos en la siguiente lista:\n",
    "\n",
    "telefonos = [\"(123) 456-7890\", \"178 1890-733\", \"(555) 238-1987\", \"(123) 4560-7890\", \"(ABC) 098-1111\"]\n",
    "\n",
    "telefonos_strg = \" , \".join(telefonos)\n",
    "\n",
    "print(telefonos_strg)\n",
    "\n",
    "\n",
    "verificar  = re.findall(r\"\\(\\d{3}\\) \\d{3}-\\d{4}\", telefonos_strg)\n",
    "\n",
    "print(verificar)"
   ]
  },
  {
   "cell_type": "code",
   "execution_count": 45,
   "metadata": {},
   "outputs": [
    {
     "name": "stdout",
     "output_type": "stream",
     "text": [
      "['user@example.com.', 'john.doe@email.com']\n"
     ]
    }
   ],
   "source": [
    "#2.Buscar todas las direcciones de correo electrónico en un texto.\n",
    "#Descripción: Encontrar todas las direcciones de correo electrónico presentes en una cadena de texto.\n",
    "#Probad con el siguiente string:\n",
    "\n",
    "texto = \"Mi correo es user@example.com. Contacta conmigo en john.doe@email.com\"\n",
    "\n",
    "email = re.findall(r'\\S+@\\S+', texto)\n",
    "\n",
    "print(email)\n",
    "\n"
   ]
  },
  {
   "cell_type": "code",
   "execution_count": 7,
   "metadata": {},
   "outputs": [
    {
     "name": "stdout",
     "output_type": "stream",
     "text": [
      "12345 es un código postal válido.\n",
      "190037 no es un código postal válido.\n",
      "78409 es un código postal válido.\n",
      "986449 no es un código postal válido.\n",
      "19305 es un código postal válido.\n"
     ]
    }
   ],
   "source": [
    "#3.Validar un código postal.\n",
    "#Descripción: Verificar si una cadena representa un código postal válido de 5 dígitos.\n",
    "#Probad para cada uno de los códigos postales que tenemos en la siguiente lista:\n",
    "\n",
    "codigos_postales = [\"12345\", \"190037\", \"78409\", \"986449\", \"19305\"]\n",
    "\n",
    "for codigo in codigos_postales:\n",
    "    if re.match(r\"^\\d{5}$\", codigo):\n",
    "        print(f\"{codigo} es un código postal válido.\")\n",
    "    else:\n",
    "        print(f\"{codigo} no es un código postal válido.\")\n"
   ]
  },
  {
   "cell_type": "code",
   "execution_count": null,
   "metadata": {},
   "outputs": [],
   "source": [
    "#4."
   ]
  },
  {
   "cell_type": "code",
   "execution_count": 3,
   "metadata": {},
   "outputs": [
    {
     "name": "stdout",
     "output_type": "stream",
     "text": [
      "['#deporte', '#FelizViernes', '#Tech2022']\n"
     ]
    }
   ],
   "source": [
    "#5.Extraer todos los hashtags de un texto.\n",
    "#Descripción: Extraer todos los hashtags (#) presentes en una cadena de texto.\n",
    "#Probad con el siguiente string:\n",
    "\n",
    "texto = \"Me encanta el #deporte. #FelizViernes a todos. Estoy en la conferencia #Tech2022.\"\n",
    "\n",
    "hashtags = re.findall(r'#\\w+', texto)\n",
    "\n",
    "print(hashtags)\n"
   ]
  },
  {
   "cell_type": "code",
   "execution_count": null,
   "metadata": {},
   "outputs": [],
   "source": [
    "#6."
   ]
  },
  {
   "cell_type": "code",
   "execution_count": 5,
   "metadata": {},
   "outputs": [
    {
     "name": "stdout",
     "output_type": "stream",
     "text": [
      "juan_doe123 es un nombre de usuario válido.\n",
      "lola_12 es un nombre de usuario válido.\n",
      "Aurora_23 no es un nombre de usuario válido.\n",
      "12marta_lopez es un nombre de usuario válido.\n"
     ]
    }
   ],
   "source": [
    "#7.Validar un nombre de usuario.\n",
    "#Descripción: Verificar si una cadena representa un nombre de usuario válido, que contiene solo letras minúsculas, números y guiones bajos (_).\n",
    "#Probad con la siguiente lista de usuarios:\n",
    "\n",
    "lista_usuarios = [\"juan_doe123\", \"lola_12\", \"Aurora_23\", \"12marta_lopez\"]\n",
    "\n",
    "import re\n",
    "\n",
    "def validar_usuario(username):\n",
    "    if re.match(\"^[a-z0-9_]+$\", username):\n",
    "        return True\n",
    "    else:\n",
    "        return False\n",
    "\n",
    "for usuario in lista_usuarios:\n",
    "    if validar_usuario(usuario):\n",
    "        print(f\"{usuario} es un nombre de usuario válido.\")\n",
    "    else:\n",
    "        print(f\"{usuario} no es un nombre de usuario válido.\")\n"
   ]
  },
  {
   "cell_type": "code",
   "execution_count": null,
   "metadata": {},
   "outputs": [],
   "source": [
    "#8."
   ]
  },
  {
   "cell_type": "code",
   "execution_count": 6,
   "metadata": {},
   "outputs": [
    {
     "name": "stdout",
     "output_type": "stream",
     "text": [
      " Hola  cómo estás   Todo bien \n"
     ]
    }
   ],
   "source": [
    "#9.Remover caracteres especiales.\n",
    "#Descripción: Dada una cadena de texto, remover cualquier carácter especial, como signos de puntuación y símbolos.\n",
    "#Probad con el siguiente string:\n",
    "\n",
    "texto = '¡Hola, cómo estás? ¿Todo bien?'\n",
    "\n",
    "texto_limpio = re.sub(r'[^\\w\\s]', ' ', texto)\n",
    "\n",
    "print(texto_limpio)\n"
   ]
  },
  {
   "cell_type": "code",
   "execution_count": null,
   "metadata": {},
   "outputs": [],
   "source": [
    "#10."
   ]
  }
 ],
 "metadata": {
  "kernelspec": {
   "display_name": "Python 3",
   "language": "python",
   "name": "python3"
  },
  "language_info": {
   "codemirror_mode": {
    "name": "ipython",
    "version": 3
   },
   "file_extension": ".py",
   "mimetype": "text/x-python",
   "name": "python",
   "nbconvert_exporter": "python",
   "pygments_lexer": "ipython3",
   "version": "3.9.6"
  }
 },
 "nbformat": 4,
 "nbformat_minor": 2
}
