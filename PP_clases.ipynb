{
 "cells": [
  {
   "cell_type": "code",
   "execution_count": 6,
   "metadata": {},
   "outputs": [],
   "source": [
    "import datetime\n",
    "#1.En este ejercicio de pair programming, vamos a crear una clase para gestionar la información de los empleados de nuestra empresa. Siguiendo las indicaciones del jefe, necesitamos organizar los datos de cada empleado de manera más estructurada. La clase Empleados permite gestionar información relacionada con los empleados de una empresa, con las siguientes características:\n",
    "        #Debes crear una clase llamada \"Empleados\" que tenga los siguientes atributos: nombre, apellidos, edad, posicion, año , vacaciones(cantidad de días de vacaciones que le quedan al empleado) y herramientas.\n",
    "        #El constructor __init__ debe recibir estos atributos como parámetros y asignarlos a los respectivos atributos de la clase.\n",
    "        #Los atributos representan la información personal y profesional de un empleado, como su nombre completo, edad, posición en la empresa, año de ingreso, días de vacaciones disponibles y una lista de herramientas que el empleado sabe utilizar.\n",
    "        #Los métodos que debe recibir esta clase son:\n",
    "        #Método descripcion: Proporciona una descripción del empleado, incluyendo su nombre, posición en la empresa, y la cantidad de días de vacaciones que le quedan para el año actual. Los pasos para resolver el ejercicio del método descripcion son:\n",
    "        #Utilizar F-Strings: Utiliza f-strings para construir la descripción del empleado de manera legible y eficiente.\n",
    "        #Especificar los Atributos a Incluir: Determina cuáles de los atributos del empleado se deben incluir en la descripción. Los atributos necesarios son nombre, posicion, año, y vacaciones.\n",
    "        #Concatenar los Atributos: Usar f-strings para concatenar los atributos seleccionados y crear una descripción coherente.\n",
    "\n",
    "class Empleado:\n",
    "        def __init__(self, nombre, apellidos, edad, posicion, año ,herramientas, vacaciones, salario):\n",
    "                self.nombre = nombre\n",
    "                self.apellidos = apellidos\n",
    "                self.edad = edad\n",
    "                self.posicion = posicion\n",
    "                self.año = año\n",
    "                self.herramientas = herramientas\n",
    "                self.vacaciones = vacaciones\n",
    "                self.salario = salario\n",
    " #Especificar los Atributos a Incluir: Determina cuáles de los atributos del empleado se deben incluir en la descripción. Los atributos necesarios son nombre, posicion, año, y vacaciones.\n",
    "        def descripcion(self):\n",
    "                self.nombre\n",
    "                self.año\n",
    "                self.posicion\n",
    "                self.vacaciones\n",
    "                return f\"El empleado {self.nombre}, {self.posicion}, le quedan {self.vacaciones} dias de vacaciones del año {self.año}\"\n",
    "#2.Método cambiando_posicion: Verifica las herramientas que el empleado tiene en su lista y devuelve un mensaje específico basado en las herramientas. Puede elogiar al empleado si tiene \"Python\" en su lista o sugerirle que deje de usar \"Excel\" y aprenda Python. Los pasos para resolver este ejercicio son:\n",
    "        #Iterar a través de las Herramientas: La función debe recorrer la lista de herramientas (self.herramientas) del empleado.\n",
    "        #Evaluar Cada Herramienta: Para cada herramienta en la lista, verifica si es igual a \"Python\" o \"Excel\" (en minúsculas).\n",
    "        def cambiando_posicion(self):\n",
    "                herramientas2 = []\n",
    "                for herramienta in self.herramientas:\n",
    "                        herramientas2.append(herramienta.capitalize())                                 \n",
    "                if \"Python\" in herramientas2:\n",
    "                        return f\"Esta usted cualificado\"\n",
    "                else:\n",
    "                        return f\"Debería formarse en Python y dejar Excel\"\n",
    "#3.Método calcular_antiguedad: Calcula la antigüedad del empleado en años y meses desde el año de ingreso hasta la fecha actual.\n",
    "#Calcular la Antigüedad en Años y Meses: Utiliza el módulo datetime de Python para obtener el año actual y el mes actual.\n",
    "#Generar el Mensaje de Antigüedad: Usa los valores calculados para años y meses de antigüedad para generar un mensaje descriptivo. Por ejemplo, \"Juan lleva 5 años y 3 meses en la empresa\".\n",
    "        def calcular_antiguedad(self):\n",
    "                antiguedad = (date.today().year) - (self.año)\n",
    "                return f\"El empleado lleva en la empresa {antiguedad} años\"\n",
    "        \n",
    "\n",
    "#4.Método solicitar_aumento_vacaciones:\n",
    "        def solicitar_aumento_vacaciones(self, dias_solicitados):\n",
    "\n",
    "                self.dias_solicitados = dias_solicitados\n",
    "\n",
    "                if dias_solicitados > 0:\n",
    "\n",
    "                        self.vacaciones += dias_solicitados\n",
    "                        return f\"La solicitud es valida. Ahora tienes {self.vacaciones} dias de vacaciones. Disfruta!\"\n",
    "                else:\n",
    "                        return \"La solicitud no es valida, debe ser un numero positivo\"\n",
    "#5.Método registrar_herramienta: Permite al empleado registrar una nueva herramienta en su lista de habilidades. La herramienta se registra si no está registrada previamente en la lista de herramientas del empleado. Recibirá un parámetro que será la nueva herramienta.\n",
    "#Validar la Nueva Herramienta: Utiliza una estructura de control para verificar si la nueva herramienta no está en la lista de herramientas existentes.\n",
    "#Agregar la Nueva Herramienta: Si la nueva herramienta no está en la lista existente, agregarla a la lista.\n",
    "#Generar un Mensaje de Confirmación: Crea un mensaje informativo que confirme el registro exitoso de la nueva herramienta y muestre el nombre de la herramienta registrada.\n",
    "#Manejar Herramientas Duplicadas: Si la nueva herramienta ya existe en la lista, genera un mensaje que indique que la herramienta ya ha sido registrada previamente.\n",
    "        def registrar_herramienta(self):       \n",
    "        \n",
    "                for herramienta in self.herramientas:\n",
    "                        nueva_herramienta = input(\"Inserte herramienta\").capitalize()\n",
    "                        if nueva_herramienta != herramienta:\n",
    "                                self.herramientas.append(nueva_herramienta)\n",
    "                                return f\"{nueva_herramienta} se ha añadido a {self.herramientas}\" \n",
    "                                \n",
    "                        if nueva_herramienta == herramienta:\n",
    "                                return f\"{nueva_herramienta} ya existe en la lista de herramientas {self.herramientas}\" \n",
    "                                \n",
    "                        else:\n",
    "                                \n",
    "                                return f\"{nueva_herramienta} se encuentra en la lista\"                \n",
    "        \n",
    "#6.Método cambiar_posicion:\n",
    "\n",
    "        def cambiar_posicion(self, nueva_posicion, nuevo_salario):\n",
    "                self.nombre\n",
    "                self.posicion = nueva_posicion\n",
    "                self.nuevo_salario = nuevo_salario\n",
    "\n",
    "                return f\"Enhorabuena {self.nombre} , usted ha sufrido un cambio de posicion y de salario. Ahora su posición es {nueva_posicion} y su salario es {nuevo_salario}\"\n",
    "        \n",
    "#8Método solicitar_aumento_salario: \n",
    "\n",
    "\n",
    "        def solicitar_aumento_salario(self):\n",
    "         while True:\n",
    "            try:\n",
    "                porcentaje_aumento = float(input(\"Porcentaje de aumento de salario deseado: \"))\n",
    "                if porcentaje_aumento < 0:\n",
    "                    print(\"El porcentaje de aumento debe ser mayor o igual a cero.\")\n",
    "                else:\n",
    "                    nuevo_salario = self.salario * (1 + porcentaje_aumento / 100)\n",
    "                    self.salario = nuevo_salario\n",
    "                    return f\"Solicitud de aumento de salario aprobada. Tu nuevo salario es de {nuevo_salario} €.\"\n",
    "            except ValueError:\n",
    "                print(\"Error: Ingresa un número válido para el porcentaje de aumento.\")"
   ]
  },
  {
   "cell_type": "code",
   "execution_count": 48,
   "metadata": {},
   "outputs": [
    {
     "name": "stdout",
     "output_type": "stream",
     "text": [
      "El empleado Juan, Senior Manager, le quedan 13 dias de vacaciones del año 2013\n",
      "Esta usted cualificado\n"
     ]
    },
    {
     "data": {
      "text/plain": [
       "<bound method Empleado.calcular_antiguedad of <__main__.Empleado object at 0x10d69b5b0>>"
      ]
     },
     "execution_count": 48,
     "metadata": {},
     "output_type": "execute_result"
    }
   ],
   "source": [
    "Juan= Empleado( \"Juan\", \"Garcia\", 35, \"Senior Manager\", 2013,[\"excel\", \"python\",\"powerPoint\"], 13 )\n",
    "print(Juan.descripcion())\n",
    "print(Juan.cambiando_posicion())\n",
    "Juan.calcular_antiguedad"
   ]
  },
  {
   "cell_type": "code",
   "execution_count": null,
   "metadata": {},
   "outputs": [],
   "source": [
    "#3.Método calcular_antiguedad: Calcula la antigüedad del empleado en años y meses desde el año de ingreso hasta la fecha actual.\n",
    "#Calcular la Antigüedad en Años y Meses: Utiliza el módulo datetime de Python para obtener el año actual y el mes actual.\n",
    "#Generar el Mensaje de Antigüedad: Usa los valores calculados para años y meses de antigüedad para generar un mensaje descriptivo. Por ejemplo, \"Juan lleva 5 años y 3 meses en la empresa\"."
   ]
  },
  {
   "cell_type": "code",
   "execution_count": 45,
   "metadata": {},
   "outputs": [
    {
     "name": "stdout",
     "output_type": "stream",
     "text": [
      "La solicitud es valida. Ahora tienes 23 dias de vacaciones. Disfruta!\n"
     ]
    }
   ],
   "source": [
    "#4.Método solicitar_aumento_vacaciones: Permite al empleado solicitar un aumento en la cantidad de días de vacaciones. Si la solicitud es válida (es decir, se solicitan días positivos), actualiza los días de vacaciones del empleado y devuelve un mensaje de confirmación. Recibirá un parámetro dias_solicitados, que corresponderá con el número de días de vacaciones que quiere solicitar.\n",
    "#Validar los Días Solicitados: Utiliza una estructura de control para verificar si la cantidad de días solicitados (dias_solicitados) es mayor que cero. Esto garantiza que solo se procesen solicitudes de aumento válidas.\n",
    "#Actualizar los Días de Vacaciones: Si la solicitud es válida, aumenta la cantidad de días de vacaciones del empleado (self.vacaciones) sumando la cantidad de días solicitados.\n",
    "#Generar un Mensaje de Confirmación: Crea un mensaje informativo que confirme la aprobación de la solicitud y muestre la cantidad actualizada de días de vacaciones del empleado.\n",
    "#Manejar Solicitudes No Válidas: Si la solicitud no es válida (es decir, dias_solicitados es menor o igual a cero), generar un mensaje de error que indique que la solicitud debe ser un número positivo.\n",
    "\n",
    "dias_solicitados = 5\n",
    "Juan.solicitar_aumento_vacaciones(dias_solicitados)\n",
    "print(Juan.solicitar_aumento_vacaciones(dias_solicitados))"
   ]
  },
  {
   "cell_type": "code",
   "execution_count": null,
   "metadata": {},
   "outputs": [],
   "source": [
    "#5.Método registrar_herramienta: Permite al empleado registrar una nueva herramienta en su lista de habilidades. La herramienta se registra si no está registrada previamente en la lista de herramientas del empleado. Recibirá un parámetro que será la nueva herramienta.\n",
    "#Validar la Nueva Herramienta: Utiliza una estructura de control para verificar si la nueva herramienta no está en la lista de herramientas existentes.\n",
    "#Agregar la Nueva Herramienta: Si la nueva herramienta no está en la lista existente, agregarla a la lista.\n",
    "#Generar un Mensaje de Confirmación: Crea un mensaje informativo que confirme el registro exitoso de la nueva herramienta y muestre el nombre de la herramienta registrada.\n",
    "#Manejar Herramientas Duplicadas: Si la nueva herramienta ya existe en la lista, genera un mensaje que indique que la herramienta ya ha sido registrada previamente."
   ]
  },
  {
   "cell_type": "code",
   "execution_count": 49,
   "metadata": {},
   "outputs": [
    {
     "name": "stdout",
     "output_type": "stream",
     "text": [
      "Enhorabuena Juan , usted ha sufrido un cambio de posicion y de salario. Ahora su posición es Director y su salario es 56000\n"
     ]
    }
   ],
   "source": [
    "#6.Método cambiar_posicion: Permite al empleado cambiar su posición y salario en la empresa. Actualiza la posición y el salario y devuelve un mensaje de felicitación. Recibirá dos parámetros, la nueva posición y el nuevo salario.\n",
    "#Actualizar la Posición y el Salario: Utiliza los parámetros nueva_posicion y nuevo_salario para actualizar la posición y el salario del empleado.\n",
    "#Generar un Mensaje de Confirmación: Crea un mensaje informativo que confirme el cambio de posición y salario del empleado y muestre el nombre del empleado, la nueva posición y el nuevo salario.\n",
    "\n",
    "nueva_posicion = \"Director\"\n",
    "nuevo_salario = 56000\n",
    "Juan.cambiar_posicion(nueva_posicion, nuevo_salario)\n",
    "print(Juan.cambiar_posicion(nueva_posicion, nuevo_salario))"
   ]
  },
  {
   "cell_type": "code",
   "execution_count": 5,
   "metadata": {},
   "outputs": [
    {
     "name": "stdout",
     "output_type": "stream",
     "text": [
      "Solicitud de aumento de salario aprobada. Tu nuevo salario es de 62400.0 €.\n"
     ]
    }
   ],
   "source": [
    "#8Método solicitar_aumento_salario: Permite al empleado solicitar un aumento de salario en porcentaje y calcula el nuevo salario. Verifica que el aumento sea un valor positivo o igual a cero. Este método no recibe ningún parámetro.\n",
    "#Solicitar el Porcentaje de Aumento de Salario: Utiliza la función input para solicitar al usuario el porcentaje de aumento de salario que desea. Asegurate de que el valor ingresado sea un número decimal.\n",
    "#Validar el Porcentaje de Aumento: Utiliza un bucle while para garantizar que el porcentaje de aumento sea mayor o igual a cero. Si el usuario ingresa un valor no válido (negativo), muestra un mensaje de error y solicita nuevamente el porcentaje hasta que sea válido.\n",
    "#Calcular el Nuevo Salario: Calcula el nuevo salario.\n",
    "#Generar un Mensaje de Confirmación: Crea un mensaje que informe al empleado sobre el resultado de su solicitud. Incluye el nuevo salario calculado en el mensaje.\n",
    "#Manejar Errores de Entrada: Utiliza un bloque try...except para manejar posibles errores de entrada, como cuando el usuario ingresa un valor que no se puede convertir a un número decimal.\n",
    "\n",
    "juan = Empleado(\"Juan\", \"Garcia\", 35, \"Senior Manager\", 2013, [\"excel\", \"python\", \"powerPoint\"], 13, 60000)\n",
    "\n",
    "mensaje_respuesta = juan.solicitar_aumento_salario()\n",
    "print(mensaje_respuesta)\n",
    "\n"
   ]
  },
  {
   "cell_type": "markdown",
   "metadata": {},
   "source": [
    "Ejercicio 2\n",
    "\n",
    "En este ejercicio, se te pide crear una herencia de la clase creada en el ejercicio anterior. Esta clase hija se llama \"Gerente\" que hereda de la clase creada en el ejercicio anterior. Las instrucciones para crear esta clase son:\n",
    "\n",
    "Crea la clase derivada \"Gerente\" que hereda de la clase \"Empleados\". Esta clase debe tener los siguientes atributos en su constructor además de los heredados de \"Empleados\":\n",
    "departamento (str): El departamento al que está asignado el gerente.\n",
    "\n",
    "empleados_a_cargo (list): Una lista que contiene los nombres de los empleados que están a cargo del gerente.\n",
    "\n",
    "Implementa los siguientes métodos en la clase \"Gerente\":\n",
    "asignar_tareas(tarea, empleado): Este método debe recibir el nombre de una tarea y el nombre de un empleado y debe devolver una cadena que indique que el gerente ha asignado la tarea a ese empleado.\n",
    "\n",
    "revisar_desempeno_empleado(empleado): Este método debe recibir el nombre de un empleado y debe devolver una cadena que indique que el gerente está revisando el desempeño de ese empleado.\n",
    "\n",
    "gestionar_empleados(accion, empleado): Este método permite al gerente realizar acciones de contratación o despido de empleados a cargo. Debe recibir una acción (\"contratar\" o \"despedir\") y el nombre de un empleado. Si la acción es \"contratar\", agrega al empleado a la lista de empleados a cargo y devuelve un mensaje indicando que el empleado ha sido contratado por el gerente. Si la acción es \"despedir\" y el empleado está en la lista de empleados a cargo, lo elimina y devuelve un mensaje de despido. Si la acción no es válida, devuelve un mensaje indicando que la acción no es válida."
   ]
  },
  {
   "cell_type": "code",
   "execution_count": 7,
   "metadata": {},
   "outputs": [],
   "source": [
    "class Gerente(Empleado):\n",
    "    def __init__(self, nombre, apellidos, edad, posicion, año, herramientas, vacaciones, salario, departamento, empleados_a_cargo):\n",
    "        \n",
    "        super().__init__(nombre, apellidos, edad, posicion, año, herramientas, vacaciones, salario)\n",
    "        self.departamento = departamento\n",
    "        self.empleados_a_cargo = empleados_a_cargo\n",
    "\n",
    "\n",
    "#metodo 1\n",
    "\n",
    "    def asignar_tareas(self, tarea, empleado):\n",
    "        return f\"El gerente {self.nombre} ha asignado la tarea '{tarea}' a {empleado}.\"\n",
    "\n",
    "#metodo 2\n",
    "\n",
    "    def revisar_desempeno_empleado(self, empleado):\n",
    "        return f\"El gerente {self.nombre} está revisando el desempeño de {empleado}.\"\n",
    "\n",
    "#metodo 3\n",
    "\n",
    "    def gestionar_empleados(self, accion, empleado):\n",
    "        if accion == \"contratar\":\n",
    "            if empleado not in self.empleados_a_cargo:\n",
    "                self.empleados_a_cargo.append(empleado)\n",
    "                return f\"{empleado} ha sido contratado por el gerente {self.nombre}.\"\n",
    "            else:\n",
    "                return f\"{empleado} ya está en la lista de empleados a cargo.\"\n",
    "        elif accion == \"despedir\":\n",
    "            if empleado in self.empleados_a_cargo:\n",
    "                self.empleados_a_cargo.remove(empleado)\n",
    "                return f\"{empleado} ha sido despedido por el gerente {self.nombre}.\"\n",
    "            else:\n",
    "                return f\"{empleado} no está en la lista de empleados a cargo.\"\n",
    "        else:\n",
    "            return \"Acción no válida. Las acciones válidas son 'contratar' o 'despedir'.\"\n"
   ]
  },
  {
   "cell_type": "code",
   "execution_count": 12,
   "metadata": {},
   "outputs": [
    {
     "name": "stdout",
     "output_type": "stream",
     "text": [
      "El gerente Juan ha asignado la tarea 'Proyecto' a Empleado Pepe.\n",
      "El gerente Juan está revisando el desempeño de Empleado Pancho.\n",
      "Nuevo Empleado ha sido contratado por el gerente Juan.\n"
     ]
    }
   ],
   "source": [
    "\n",
    "gerente = Gerente(\"Juan\", \"Garcia\", 35, \"Gerente de Proyecto\", 2010, [\"Excel\", \"Word\"], 20, 75000, \"Ventas\", [\"EmpleadoPepe\", \"EmpleadoPancho\"])\n",
    "\n",
    "\n",
    "tarea_asignada = gerente.asignar_tareas(\"Proyecto\", \"Empleado Pepe\")\n",
    "print(tarea_asignada)\n",
    "\n",
    "desempeno = gerente.revisar_desempeno_empleado(\"Empleado Pancho\")\n",
    "print(desempeno)\n",
    "\n",
    "contratacion = gerente.gestionar_empleados(\"contratar\", \"Nuevo Empleado\")\n",
    "print(contratacion)"
   ]
  }
 ],
 "metadata": {
  "kernelspec": {
   "display_name": "base",
   "language": "python",
   "name": "python3"
  },
  "language_info": {
   "codemirror_mode": {
    "name": "ipython",
    "version": 3
   },
   "file_extension": ".py",
   "mimetype": "text/x-python",
   "name": "python",
   "nbconvert_exporter": "python",
   "pygments_lexer": "ipython3",
   "version": "3.9.6"
  }
 },
 "nbformat": 4,
 "nbformat_minor": 2
}
