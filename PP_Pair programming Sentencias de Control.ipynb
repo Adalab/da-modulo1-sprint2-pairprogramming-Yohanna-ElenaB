{
 "cells": [
  {
   "cell_type": "markdown",
   "metadata": {},
   "source": [
    "Ejericios bucles for"
   ]
  },
  {
   "cell_type": "code",
   "execution_count": 4,
   "metadata": {},
   "outputs": [
    {
     "name": "stdout",
     "output_type": "stream",
     "text": [
      "0\n",
      "1\n",
      "2\n",
      "3\n",
      "4\n",
      "5\n",
      "------------\n",
      "0\n",
      "1\n",
      "2\n",
      "3\n",
      "4\n",
      "5\n",
      "6\n",
      "7\n",
      "8\n",
      "9\n",
      "10\n"
     ]
    }
   ],
   "source": [
    "# 1.Imprimir los números del 1 al 5 utilizando un bucle for\n",
    "#Descripción: Utiliza un bucle for para imprimir los números del 1 al 50 (incluido) en orden ascendente.\n",
    "\n",
    "for i in range(0,6):\n",
    "    print (i)\n",
    "print(\"------------\")\n",
    "\n",
    "# 2.Calcular la suma de los primeros 10 números naturales utilizando un bucle for\n",
    "#Descripción: Utiliza un bucle for para calcular la suma de los primeros 10 números naturales (1 + 2 + 3 + ... + 10).\n",
    "\n",
    "for i in range(0,11,1):\n",
    "    print (i)\n"
   ]
  },
  {
   "cell_type": "code",
   "execution_count": 8,
   "metadata": {},
   "outputs": [
    {
     "name": "stdout",
     "output_type": "stream",
     "text": [
      "2\n",
      "4\n",
      "6\n",
      "8\n",
      "10\n",
      "12\n",
      "14\n"
     ]
    }
   ],
   "source": [
    "# 3.Calcular el producto de los elementos de una lista\n",
    "#Descripción: Dada una lista de números, utiliza un bucle for para calcular el producto de todos los elementos.\n",
    "\n",
    "lista_numeros= [1,2,3,4,5,6,7]\n",
    "\n",
    "for i in lista_numeros:\n",
    "    lista_producto= i*2\n",
    "    print(lista_producto)\n"
   ]
  },
  {
   "cell_type": "code",
   "execution_count": 9,
   "metadata": {},
   "outputs": [
    {
     "name": "stdout",
     "output_type": "stream",
     "text": [
      "h\n",
      "o\n",
      "l\n",
      "a\n"
     ]
    }
   ],
   "source": [
    "#4.Imprimir los caracteres de una cadena de texto\n",
    "#Descripción: Dada una cadena de texto, utiliza un bucle for para imprimir cada carácter en una línea separada.\n",
    "\n",
    "cadena = list(\"hola\")\n",
    "\n",
    "for letra in cadena:\n",
    "    print(letra)"
   ]
  },
  {
   "cell_type": "code",
   "execution_count": 13,
   "metadata": {},
   "outputs": [
    {
     "name": "stdout",
     "output_type": "stream",
     "text": [
      "0\n",
      "2\n",
      "4\n",
      "6\n",
      "8\n",
      "10\n",
      "12\n",
      "14\n",
      "16\n",
      "18\n",
      "20\n",
      "22\n",
      "24\n",
      "26\n",
      "28\n",
      "30\n",
      "32\n",
      "34\n",
      "36\n",
      "38\n",
      "40\n",
      "42\n",
      "44\n",
      "46\n",
      "48\n",
      "50\n",
      "52\n",
      "54\n",
      "56\n",
      "58\n",
      "60\n",
      "62\n",
      "64\n",
      "66\n",
      "68\n",
      "70\n",
      "72\n",
      "74\n",
      "76\n",
      "78\n",
      "80\n",
      "82\n",
      "84\n",
      "86\n",
      "88\n",
      "90\n",
      "92\n",
      "94\n",
      "96\n",
      "98\n",
      "100\n"
     ]
    }
   ],
   "source": [
    "#5.Imprimir los números pares del 1 al 100 utilizando un bucle for\n",
    "#Descripción: Utiliza un bucle for para imprimir los números pares del 1 al 100 en orden ascendente.\n",
    "\n",
    "for i in range(0,101,2):\n",
    "     print(i)"
   ]
  },
  {
   "cell_type": "code",
   "execution_count": 20,
   "metadata": {},
   "outputs": [
    {
     "name": "stdout",
     "output_type": "stream",
     "text": [
      "2\n",
      "3\n",
      "5\n",
      "7\n",
      "11\n",
      "13\n",
      "17\n",
      "19\n",
      "23\n",
      "29\n",
      "31\n",
      "37\n",
      "41\n",
      "43\n",
      "47\n"
     ]
    }
   ],
   "source": [
    "#6.Imprimir los números primos del 1 al 50 utilizando un bucle for\n",
    "#Descripción: Utiliza un bucle for para imprimir los números primos del 1 al 50 en orden ascendente.\n",
    "#NOTA: Según la Wikipedia, un número primo es un número natural mayor que 1 que no tiene divisores positivos más que 1 y él mismo.\n",
    "\n",
    "for num in range(2,51):\n",
    "    es_primo = True\n",
    "    \n",
    "    for i in range(2,int(num**0.5)+1):\n",
    "        if num % i == 0:\n",
    "            es_primo = False\n",
    "    if es_primo:\n",
    "        print(num)"
   ]
  },
  {
   "cell_type": "code",
   "execution_count": 3,
   "metadata": {},
   "outputs": [
    {
     "name": "stdout",
     "output_type": "stream",
     "text": [
      "El factorial de 3 es 6\n"
     ]
    }
   ],
   "source": [
    "#7.Calcular el factorial de un número utilizando un bucle for\n",
    "#Descripción: Dado un número entero positivo, calcula su factorial utilizando un bucle for.\n",
    "\n",
    "numero = int(input(\"Elige un número: \"))\n",
    "\n",
    "factorial = 1\n",
    "for a in range(1, numero + 1):\n",
    "    factorial *= a\n",
    "print(f\"El factorial de {numero} es {factorial}\")\n",
    "\n"
   ]
  },
  {
   "cell_type": "code",
   "execution_count": 1,
   "metadata": {},
   "outputs": [
    {
     "name": "stdout",
     "output_type": "stream",
     "text": [
      "una pista, pertence al mar\n",
      "has fallado, te quedan 2 vidas\n"
     ]
    }
   ],
   "source": [
    "#8.Juego de adivinar palabras utilizando un bucle for\n",
    "#Descripción: Crea un juego en el que el jugador debe adivinar una palabra secreta. El jugador tiene un número limitado de intentos y se le proporcionan pistas después de cada intento. Utiliza un bucle for para controlar los intentos del jugador.\n",
    "\n",
    "palabra_secreta = [\"ola\",\"arena\",\"playa\"]\n",
    "vidas = 3\n",
    "\n",
    "for i in palabra_secreta:  \n",
    "    palabra_escogida = input(\"elige una palabra en minuscula\")\n",
    "    \n",
    "    if palabra_escogida != i:\n",
    "        print(\"una pista, pertence al mar\")\n",
    "        vidas -=1\n",
    "        print(f\"has fallado, te quedan {vidas} vidas\")\n",
    "        break\n",
    "    else:\n",
    "        print(\"has acertado es:\", palabra_escogida)\n",
    "        "
   ]
  },
  {
   "cell_type": "markdown",
   "metadata": {},
   "source": [
    "Ejercicios list comprehension"
   ]
  },
  {
   "cell_type": "code",
   "execution_count": 3,
   "metadata": {},
   "outputs": [
    {
     "name": "stdout",
     "output_type": "stream",
     "text": [
      "[0, 2, 4, 6, 8, 10, 12, 14, 16, 18, 20]\n"
     ]
    }
   ],
   "source": [
    "#1.Generar una lista de los números pares del 1 al 20.\n",
    "#Descripción: Utiliza list comprehension para generar una lista que contenga todos los números pares en el rango del 1 al 20.\n",
    "\n",
    "num_pares =[ num for num in range(0,21) if num % 2 ==0 ]\n",
    "\n",
    "print(num_pares)"
   ]
  },
  {
   "cell_type": "code",
   "execution_count": 2,
   "metadata": {},
   "outputs": [
    {
     "name": "stdout",
     "output_type": "stream",
     "text": [
      "['o', 'i', 'o', 'e', 'e', 'a', 'i', 'e', 'e', 'i', 'o']\n"
     ]
    }
   ],
   "source": [
    "#2.Obtener una lista de las vocales en una cadena de texto.\n",
    "#Descripción: Utiliza list comprehension para crear una lista que contenga\n",
    "#todas las vocales presentes en una cadena de texto (sin repetición).\n",
    "\n",
    "cadena_texto1 = \"Los informes estan bien escritos\"\n",
    "\n",
    "vocales = [\"a\", \"e\", \"i\", \"o\", \"u\"]\n",
    "\n",
    "lista_vocales = [vocal for vocal in cadena_texto1 if vocal.lower() in vocales]\n",
    "\n",
    "print(lista_vocales)"
   ]
  },
  {
   "cell_type": "code",
   "execution_count": 1,
   "metadata": {},
   "outputs": [
    {
     "name": "stdout",
     "output_type": "stream",
     "text": [
      "es positivo\n",
      "1\n",
      "es positivo\n",
      "4\n",
      "es positivo\n",
      "9\n",
      "es positivo\n",
      "16\n",
      "es positivo\n",
      "25\n",
      "--------------------\n",
      "[1, 4, 9, 16, 25]\n"
     ]
    }
   ],
   "source": [
    "#3.Filtrar los números positivos de una lista y calcular su cuadrado.\n",
    "#Descripción: Utiliza list comprehension para filtrar los números positivos de una lista y calcular el cuadrado de cada uno.\n",
    "lista_numeros = [-5,-4,-3,-2,-1, 0,1,2,3,4,5]\n",
    "num =[]\n",
    "for i in lista_numeros:\n",
    "    \n",
    "    if i > 0:\n",
    "        print( \"es positivo\")\n",
    "        num = i**2\n",
    "        print(num)\n",
    "print(\"--------------------\")\n",
    "\n",
    "lista_numeros2 =[i**2 for i in lista_numeros if i>0 ]\n",
    "print(lista_numeros2)"
   ]
  },
  {
   "cell_type": "markdown",
   "metadata": {},
   "source": [
    "Ejercicio try...except"
   ]
  },
  {
   "cell_type": "code",
   "execution_count": null,
   "metadata": {},
   "outputs": [],
   "source": [
    "#1. Realizar una búsqueda en una lista y capturar una excepción en caso de valor no encontrado.\n",
    "#Descripción: Solicita al usuario una lista de nombres y un nombre para buscar en la lista.\n",
    "#Intenta encontrar el nombre en la lista y utiliza las sentencias try y except para capturar la \n",
    "#excepción en caso de que el nombre no sea encontrado."
   ]
  }
 ],
 "metadata": {
  "kernelspec": {
   "display_name": "base",
   "language": "python",
   "name": "python3"
  },
  "language_info": {
   "codemirror_mode": {
    "name": "ipython",
    "version": 3
   },
   "file_extension": ".py",
   "mimetype": "text/x-python",
   "name": "python",
   "nbconvert_exporter": "python",
   "pygments_lexer": "ipython3",
   "version": "3.9.7"
  }
 },
 "nbformat": 4,
 "nbformat_minor": 2
}
