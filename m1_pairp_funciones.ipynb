{
 "cells": [
  {
   "cell_type": "code",
   "execution_count": 21,
   "metadata": {},
   "outputs": [
    {
     "name": "stdout",
     "output_type": "stream",
     "text": [
      "28.26\n"
     ]
    }
   ],
   "source": [
    "#1. Calcular el área de un círculo.\n",
    "#Descripción: Crea una función llamada calcular_area_circulo que tome el radio como parámetro y devuelva el área del círculo.\n",
    " # A= pi (3.14) * r (3)**2\n",
    "\n",
    "radio = 3\n",
    "area = ()\n",
    "pi = 3,14\n",
    "\n",
    "def calculo_area_circulo(pi, radio):\n",
    "    resultado = (pi * (radio**2))\n",
    "\n",
    "    return resultado\n",
    "  \n",
    "area = calculo_area_circulo(3.14 ,3)\n",
    "\n",
    "print(area)"
   ]
  },
  {
   "cell_type": "code",
   "execution_count": 70,
   "metadata": {},
   "outputs": [
    {
     "name": "stdout",
     "output_type": "stream",
     "text": [
      "15\n"
     ]
    }
   ],
   "source": [
    "#2Contar la cantidad de caracteres en una cadena.\n",
    "#Descripción: Crea una función llamada contar_caracteres que tome \n",
    "#una cadena como parámetro y devuelva la cantidad de caracteres que \n",
    "#contiene.\n",
    "\n",
    "\n",
    "cadena_texto = \"hoy hace fresco\"\n",
    "caracteres= ()\n",
    "\n",
    "def contar_caracteres(cadena_texto):\n",
    "    lista = len(list(cadena_texto))\n",
    "    return lista\n",
    "\n",
    "caracteres = contar_caracteres(cadena_texto)\n",
    "print(caracteres)\n"
   ]
  },
  {
   "cell_type": "code",
   "execution_count": 1,
   "metadata": {},
   "outputs": [
    {
     "name": "stdout",
     "output_type": "stream",
     "text": [
      "['o', 'j', 'o']\n",
      "True\n"
     ]
    }
   ],
   "source": [
    "#3Determinar si una cadena es un palíndromo.\n",
    "#Descripción: Crea una función llamada es_palindromo que tome una \n",
    "#cadena como parámetro y devuelva True si es un palíndromo, o False \n",
    "#si no lo es.\n",
    "\n",
    "cadena = \"ojo\"\n",
    "cadena = list(cadena)\n",
    "print(cadena)\n",
    "copia_cadena = cadena.copy()\n",
    "copia_cadena.reverse()\n",
    "palindromo = True\n",
    "nopalindromo = False\n",
    "def verificar_palindromo(cadena):\n",
    "    if cadena == copia_cadena:\n",
    "        print (palindromo)\n",
    "    else:\n",
    "        print (nopalindromo)\n",
    "verificacion = verificar_palindromo(cadena)\n",
    "\n"
   ]
  },
  {
   "cell_type": "code",
   "execution_count": null,
   "metadata": {},
   "outputs": [],
   "source": [
    "#4 Calcular el promedio de una lista de números.\n",
    "#Descripción: Crea una función llamada calcular_promedio que tome una lista de números como parámetro y devuelva \n",
    "#el promedio de todos sus elementos."
   ]
  },
  {
   "cell_type": "code",
   "execution_count": 6,
   "metadata": {},
   "outputs": [
    {
     "name": "stdout",
     "output_type": "stream",
     "text": [
      "24010.0\n"
     ]
    }
   ],
   "source": [
    "#5 Calcular el interés compuesto.\n",
    "#Descripción: Crea una función llamada calcular_interes_compuesto que tome el capital inicial, \n",
    "#la tasa de interés y el número de períodos como parámetros y devuelva el beneficio final después del interés compuesto.\n",
    "\n",
    "#cap_final = cap_ini *(1 - tasa_interes)**periodo_ahorro\n",
    "\n",
    "cap_final = ()\n",
    "cap_ini = 100000\n",
    "tasa_interes = 0.3\n",
    "periodo_ahorro = 4\n",
    "\n",
    "def calcular_ineteres_compuesto(cap_ini, tasa_interes, periodo_ahorro):\n",
    "    resultado = round((cap_ini *((1 - tasa_interes)**periodo_ahorro)),2)\n",
    "\n",
    "    return resultado\n",
    "  \n",
    "cap_final = calcular_ineteres_compuesto(100000, 0.3 , 4)\n",
    "\n",
    "print(cap_final)"
   ]
  },
  {
   "cell_type": "code",
   "execution_count": null,
   "metadata": {},
   "outputs": [],
   "source": [
    "#6 Validar si una palabra es un anagrama de otra.\n",
    "#Descripción: Crea una función llamada es_anagrama que tome dos palabras como parámetros y devuelva True si \n",
    "#una es un anagrama de la otra, o False si no lo es."
   ]
  },
  {
   "cell_type": "code",
   "execution_count": 30,
   "metadata": {},
   "outputs": [
    {
     "name": "stdout",
     "output_type": "stream",
     "text": [
      "murcielago\n",
      "True\n"
     ]
    }
   ],
   "source": [
    "#7Validar si una cadena de texto es un isograma.\n",
    "#Descripción: Crea una función llamada es_isograma que tome una cadena de texto como parámetro y devuelva \n",
    "#True si es un isograma. En caso contrario, devuelve False.\n",
    "\n",
    "palabra = \"murcielago\"\n",
    "print(palabra)\n",
    "\n",
    "es_isograma = lambda palabra : len(palabra) == len(set(palabra))\n",
    "\n",
    "print(es_isograma (palabra))\n"
   ]
  },
  {
   "cell_type": "code",
   "execution_count": null,
   "metadata": {},
   "outputs": [],
   "source": [
    "#8 Concatenar múltiples cadenas de texto\n",
    "#Descripción: Crea una función llamada concatenar_cadenas que tome una cantidad variable de cadenas \n",
    "#de texto como argumentos y devuelva una única cadena que contenga la concatenación de todas las cadenas ingresadas."
   ]
  },
  {
   "cell_type": "code",
   "execution_count": 54,
   "metadata": {},
   "outputs": [
    {
     "name": "stdout",
     "output_type": "stream",
     "text": [
      "{'nombre': 'Menganito', 'edad': 80, 'ciudad': 'Avila', 'pelo': 'Rubio', 'altura': 1.78}\n"
     ]
    }
   ],
   "source": [
    "#9Crear un diccionario con información de una persona.\n",
    "#Descripción: Crea una función llamada crear_persona que tome como argumentos clave-valor los datos \n",
    "#de una persona, como nombre, edad, ciudad, etc., y devuelva un diccionario con toda la información ingresada\n",
    "import random\n",
    "\n",
    "nombres = [\"Fulgencio\", \"Pepito\", \"Menganito\"]\n",
    "edades = [59, 45, 80]\n",
    "ciudades = [\"Segovia\", \"Soria\", \"Avila\"]\n",
    "pelos = [\"Castaño\", \"Rubio\", \"Negro\"]\n",
    "alturas = [1.78, 1.55, 1.81]\n",
    "\n",
    "def crear_persona():\n",
    "    \n",
    "    nombre_aleatorio = random.choice(nombres)\n",
    "    edad_aleatoria = random.choice(edades)\n",
    "    ciudad_aleatoria = random.choice(ciudades)\n",
    "    pelo_aleatorio = random.choice(pelos)\n",
    "    altura_aleatoria = random.choice(alturas)\n",
    "\n",
    "    # Crear un diccionario con la información del nuevo personaje\n",
    "    nuevo_personaje = {\n",
    "        \"nombre\": nombre_aleatorio,\n",
    "        \"edad\": edad_aleatoria,\n",
    "        \"ciudad\": ciudad_aleatoria,\n",
    "        \"pelo\": pelo_aleatorio,\n",
    "        \"altura\": altura_aleatoria\n",
    "    }\n",
    "    return nuevo_personaje\n",
    "\n",
    "# Llamada a la función para crear el diccionario del nuevo personaje aleatorio\n",
    "nuevo_personaje_aleatorio_dict = crear_persona()\n",
    "\n",
    "# Imprimir el diccionario con la información del nuevo personaje aleatorio\n",
    "print(nuevo_personaje_aleatorio_dict)\n"
   ]
  },
  {
   "cell_type": "code",
   "execution_count": null,
   "metadata": {},
   "outputs": [],
   "source": [
    "#10 Encontrar el número que falta en una lista ordenada de números consecutivos.\n",
    "#Descripción: Crea una función llamada encontrar_numero_faltante que tome una lista de números consecutivos \n",
    "#(del 1 al N, sin repetir) con un número faltante y devuelva ese número faltante."
   ]
  },
  {
   "cell_type": "code",
   "execution_count": 11,
   "metadata": {},
   "outputs": [
    {
     "name": "stdout",
     "output_type": "stream",
     "text": [
      "[7, 2, 4, 5, 9, 6, 1]\n"
     ]
    }
   ],
   "source": [
    "#11Encontrar el elemento duplicado en una lista de números.\n",
    "#Descripción: Crea una función llamada encontrar_duplicado \n",
    "#que tome una lista de números enteros y devuelva \n",
    "#el elemento que está duplicado en la lista.\n",
    "\n",
    "def encontrar_duplicado():\n",
    "\n",
    "    lista_numeros = [1, 2, 5, 7, 7, 4, 9, 6, 2, 4, 5, 9, 8, 6, 9, 0, 1]\n",
    "    elementos_unicos = set()\n",
    "    elementos_duplicados = []\n",
    "\n",
    "    for num in lista_numeros:\n",
    "        if num in elementos_unicos:\n",
    "            if num not in elementos_duplicados:\n",
    "                elementos_duplicados.append(num)\n",
    "        else:\n",
    "            elementos_unicos.add(num)\n",
    "\n",
    "    return elementos_duplicados\n",
    "\n",
    "elemento_duplicado = encontrar_duplicado()\n",
    "\n",
    "print(elemento_duplicado)"
   ]
  }
 ],
 "metadata": {
  "kernelspec": {
   "display_name": "Python 3",
   "language": "python",
   "name": "python3"
  },
  "language_info": {
   "codemirror_mode": {
    "name": "ipython",
    "version": 3
   },
   "file_extension": ".py",
   "mimetype": "text/x-python",
   "name": "python",
   "nbconvert_exporter": "python",
   "pygments_lexer": "ipython3",
   "version": "3.9.6"
  }
 },
 "nbformat": 4,
 "nbformat_minor": 2
}
